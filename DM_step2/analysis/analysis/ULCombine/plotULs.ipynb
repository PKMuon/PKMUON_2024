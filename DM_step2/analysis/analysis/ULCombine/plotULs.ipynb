{
 "cells": [
  {
   "cell_type": "code",
   "execution_count": 1,
   "id": "82de38fc",
   "metadata": {},
   "outputs": [
    {
     "name": "stdout",
     "output_type": "stream",
     "text": [
      "Welcome to JupyROOT 6.20/06\n"
     ]
    }
   ],
   "source": [
    "import pyhf\n",
    "import numpy as np\n",
    "import matplotlib.pyplot as plt\n",
    "from pyhf.contrib.viz import brazil\n",
    "\n",
    "import ROOT\n",
    "from ROOT import TGraph,TCanvas,TLegend"
   ]
  },
  {
   "cell_type": "code",
   "execution_count": 2,
   "id": "ebe500b0",
   "metadata": {},
   "outputs": [],
   "source": [
    "def plotUpperLimits(values,limits,XaxisTitle,YaxisTitle,outfigure,theoryprediction = None,logy=False,logx=False):\n",
    "    # see CMS plot guidelines: https://ghm.web.cern.ch/ghm/plots/\n",
    " \n",
    "    N = len(values)\n",
    "    yellow = TGraph(2*N)    # yellow band\n",
    "    green = TGraph(2*N)     # green band\n",
    "    median = TGraph(N)      # median line\n",
    "    if theoryprediction:\n",
    "        theory = TGraph(N)      # theory line\n",
    " \n",
    "    up2s = [ ]\n",
    "    dn2s = [ ]\n",
    "    for i in range(N):\n",
    "        limit = limits[i]\n",
    "        up2s.append(limit[4])\n",
    "        dn2s.append(limit[0])\n",
    "        yellow.SetPoint(    i,    values[i], limit[4] ) # + 2 sigma\n",
    "        green.SetPoint(     i,    values[i], limit[3] ) # + 1 sigma\n",
    "        median.SetPoint(    i,    values[i], limit[2] ) # median\n",
    "        if theoryprediction:\n",
    "            theory.SetPoint(    i,    values[i], theoryprediction[i] ) # median\n",
    "        green.SetPoint(  2*N-1-i, values[i], limit[1] ) # - 1 sigma\n",
    "        yellow.SetPoint( 2*N-1-i, values[i], limit[0] ) # - 2 sigma\n",
    " \n",
    "    W = 800\n",
    "    H  = 800\n",
    "    T = 0.08*H\n",
    "    B = 0.12*H\n",
    "    L = 0.12*W\n",
    "    R = 0.04*W\n",
    "    c = TCanvas(\"c\",\"c\",100,100,W,H)\n",
    "    c.SetFillColor(0)\n",
    "    c.SetBorderMode(0)\n",
    "    c.SetFrameFillStyle(0)\n",
    "    c.SetFrameBorderMode(0)\n",
    "    c.SetLeftMargin( L/W )\n",
    "    c.SetRightMargin( R/W )\n",
    "    c.SetTopMargin( T/H )\n",
    "    c.SetBottomMargin( B/H )\n",
    "    c.SetTickx(0)\n",
    "    c.SetTicky(0)\n",
    "    c.SetGrid()\n",
    "    if logy:\n",
    "        c.SetLogy()\n",
    "    if logx:\n",
    "        c.SetLogx()\n",
    "    c.cd()\n",
    "    \n",
    "    frame = c.DrawFrame(min(values)*0.8,min(dn2s)*0.1, max(values)*2, max(up2s)*10)\n",
    "    frame.GetYaxis().CenterTitle()\n",
    "    frame.GetYaxis().SetTitleSize(0.05)\n",
    "    frame.GetXaxis().SetTitleSize(0.05)\n",
    "    frame.GetXaxis().SetLabelSize(0.03)\n",
    "    frame.GetYaxis().SetLabelSize(0.03)\n",
    "    frame.GetYaxis().SetTitleOffset(1.1)\n",
    "    frame.GetXaxis().SetNdivisions(508)\n",
    "    frame.GetYaxis().CenterTitle(True)\n",
    "    frame.GetYaxis().SetTitle(YaxisTitle)\n",
    "#    frame.GetYaxis().SetTitle(\"95% upper limit on #sigma #times BR / (#sigma #times BR)_{SM}\")\n",
    "    frame.GetXaxis().SetTitle(XaxisTitle)\n",
    "    if logy:\n",
    "        frame.SetMinimum(min(dn2s)*0.1)\n",
    "        frame.SetMaximum(max(up2s)*10)\n",
    "    else:\n",
    "        frame.SetMinimum(0)\n",
    "        frame.SetMaximum(max(up2s)*1.2)\n",
    "    frame.GetXaxis().SetLimits(min(values),max(values))\n",
    " \n",
    "    yellow.SetFillColor(ROOT.kOrange)\n",
    "    yellow.SetLineColor(ROOT.kOrange)\n",
    "    yellow.SetFillStyle(1001)\n",
    "    yellow.Draw('F')\n",
    " \n",
    "    green.SetFillColor(ROOT.kGreen+1)\n",
    "    green.SetLineColor(ROOT.kGreen+1)\n",
    "    green.SetFillStyle(1001)\n",
    "    green.Draw('Fsame')\n",
    " \n",
    "    median.SetLineColor(1)\n",
    "    median.SetLineWidth(2)\n",
    "    median.SetLineStyle(2)\n",
    "    median.Draw('Lsame')\n",
    "\n",
    "    if theoryprediction:\n",
    "        theory.SetLineColor(2)\n",
    "        theory.SetLineWidth(2)\n",
    "        theory.SetLineStyle(1)\n",
    "        theory.Draw('Lsame')\n",
    " \n",
    "#     CMS_lumi.CMS_lumi(c,14,11)\n",
    "    ROOT.gPad.SetTicks(1,1)\n",
    "    frame.Draw('sameaxis')\n",
    " \n",
    "    x1 = 0.1\n",
    "    x2 = 0.3\n",
    "    y2 = 0.9\n",
    "    y1 = 0.7\n",
    "    legend = TLegend(0.2,0.7,0.5,0.9)\n",
    "    legend.SetFillStyle(0)\n",
    "    legend.SetBorderSize(0)\n",
    "    legend.SetTextSize(0.03)\n",
    "    legend.SetTextFont(42)\n",
    "    legend.AddEntry(median, \"Asymptotic CL_{s} expected\",'L')\n",
    "    legend.AddEntry(green, \"#pm 1 std. deviation\",'f')\n",
    "#    legend.AddEntry(green, \"Asymptotic CL_{s} #pm 1 std. deviation\",'f')\n",
    "    legend.AddEntry(yellow,\"#pm 2 std. deviation\",'f')\n",
    "    if theoryprediction:\n",
    "        legend.AddEntry(theory, \"theory prediciotn\",'L')\n",
    "#    legend.AddEntry(green, \"Asymptotic CL_{s} #pm 2 std. deviation\",'f')\n",
    "    legend.Draw()\n",
    "    \n",
    "    c.Update()\n",
    "    c.Print(outfigure)\n",
    " \n",
    "    Graphs = [yellow,median,green,]\n",
    "    if theoryprediction:\n",
    "        Graphs = [yellow,median,green,theory,legend]\n",
    "\n",
    "    return c,Graphs\n"
   ]
  },
  {
   "cell_type": "code",
   "execution_count": 3,
   "id": "7fefc392",
   "metadata": {},
   "outputs": [],
   "source": [
    "limits_const_air=[]\n",
    "limits_const_vac=[]\n",
    "limits_maxwell_air=[]\n",
    "limits_maxwell_vac=[]\n",
    "MDM=[0.005,0.05,0.1,0.2,0.5,1,10,100]\n",
    "DMmass=['0p005','0p05','0p1','0p2','0p5','1','10','100']\n",
    "\n",
    "#const_air\n",
    "for iDMmass in DMmass:\n",
    "    flimits = ROOT.TFile.Open(\"UL_const_air/higgsCombine\" + \"const_\" + iDMmass + \"_air\" + \".AsymptoticLimits.mH120.root\")\n",
    "    tlimits = flimits.Get(\"limit\")\n",
    "    limitsnow=[]\n",
    "    \n",
    "    nEvents = tlimits.GetEntries()\n",
    "    for i in range(nEvents):\n",
    "        tlimits.GetEntry(i)\n",
    "        limitsnow.append(tlimits.limit)\n",
    "    \n",
    "    limits_const_air.append(limitsnow)\n",
    "    flimits.Close()\n",
    "    \n",
    "#const_vac\n",
    "for iDMmass in DMmass:\n",
    "    flimits = ROOT.TFile.Open(\"UL_const_vac/higgsCombine\" + \"const_\" + iDMmass + \"_vac\" + \".AsymptoticLimits.mH120.root\")\n",
    "    tlimits = flimits.Get(\"limit\")\n",
    "    limitsnow=[]\n",
    "    \n",
    "    nEvents = tlimits.GetEntries()\n",
    "    for i in range(nEvents):\n",
    "        tlimits.GetEntry(i)\n",
    "        limitsnow.append(tlimits.limit)\n",
    "    \n",
    "    limits_const_vac.append(limitsnow)\n",
    "    flimits.Close()\n",
    "    \n",
    "#maxwell_air\n",
    "for iDMmass in DMmass:\n",
    "    flimits = ROOT.TFile.Open(\"UL_maxwell_air/higgsCombine\" + \"maxwell_\" + iDMmass + \"_air\" + \".AsymptoticLimits.mH120.root\")\n",
    "    tlimits = flimits.Get(\"limit\")\n",
    "    limitsnow=[]\n",
    "    \n",
    "    nEvents = tlimits.GetEntries()\n",
    "    for i in range(nEvents):\n",
    "        tlimits.GetEntry(i)\n",
    "        limitsnow.append(tlimits.limit)\n",
    "    \n",
    "    limits_maxwell_air.append(limitsnow)\n",
    "    flimits.Close()\n",
    "\n",
    "#maxwell_vac\n",
    "for iDMmass in DMmass:\n",
    "    flimits = ROOT.TFile.Open(\"UL_maxwell_vac/higgsCombine\" + \"maxwell_\" + iDMmass + \"_vac\" + \".AsymptoticLimits.mH120.root\")\n",
    "    tlimits = flimits.Get(\"limit\")\n",
    "    limitsnow=[]\n",
    "    \n",
    "    nEvents = tlimits.GetEntries()\n",
    "    for i in range(nEvents):\n",
    "        tlimits.GetEntry(i)\n",
    "        limitsnow.append(tlimits.limit)\n",
    "    \n",
    "    limits_maxwell_vac.append(limitsnow)\n",
    "    flimits.Close()\n",
    "\n",
    "nsigHist_const=[]\n",
    "nsigHist_maxwell=[]\n",
    "fHist = ROOT.TFile.Open(\"./Hist.root\")\n",
    "for iDMmass in DMmass:\n",
    "    Hist = fHist.Get(\"h_const_\"+iDMmass)\n",
    "    nsigHist_const.append(Hist.Integral())\n",
    "for iDMmass in DMmass:\n",
    "    Hist = fHist.Get(\"h_maxwell_\"+iDMmass)\n",
    "    nsigHist_maxwell.append(Hist.Integral())\n",
    "\n",
    "nbkgHist_air=fHist.Get(\"h_air\").Integral()\n",
    "nbkgHist_vac=fHist.Get(\"h_vac\").Integral()"
   ]
  },
  {
   "cell_type": "code",
   "execution_count": 4,
   "id": "f635b0f4",
   "metadata": {},
   "outputs": [],
   "source": [
    "#Dark Matter\n",
    "rhoDM=0.3#GeV/cm^3\n",
    "Vbox=1* 100**3#1m^3\n",
    "\n",
    "NDM=[]\n",
    "for m in MDM:\n",
    "    NDM.append(rhoDM*Vbox/m)\n",
    "    \n",
    "#signal\n",
    "#Nsig/eff=NDM*I*sigma*T\n",
    "eff_const=[]\n",
    "for i in range(len(nsigHist_const)):\n",
    "    eff=nsigHist_const[i]/10000000.\n",
    "    if i == 0:\n",
    "        eff *= 10\n",
    "    else:\n",
    "        eff *= 1000\n",
    "    eff_const.append(eff)\n",
    "    \n",
    "eff_maxwell=[]\n",
    "for i in range(len(nsigHist_maxwell)):\n",
    "    eff=nsigHist_maxwell[i]/10000000.\n",
    "    if i == 0:\n",
    "        eff *= 10\n",
    "    else:\n",
    "        eff *= 1000\n",
    "    eff_maxwell.append(eff)\n",
    "\n",
    "I=1/60. # s^-1 cm^-2\n",
    "T=3* 10**7 #s = 1year\n",
    "\n",
    "sigmalimits_const_air=[]\n",
    "sigmalimits_const_vac=[]\n",
    "sigmalimits_maxwell_air=[]\n",
    "sigmalimits_maxwell_vac=[]\n",
    "\n",
    "#const_air\n",
    "for iDM in range(len(DMmass)):\n",
    "    limitsnow=[]\n",
    "    for iCL in range(5):\n",
    "        limitsnow.append(limits_const_air[iDM][iCL]*nsigHist_const[iDM]/eff_const[iDM]/I/T/NDM[iDM])\n",
    "    sigmalimits_const_air.append(limitsnow)\n",
    "    \n",
    "#const_vac\n",
    "for iDM in range(len(DMmass)):\n",
    "    limitsnow=[]\n",
    "    for iCL in range(5):\n",
    "        limitsnow.append(limits_const_vac[iDM][iCL]*nsigHist_const[iDM]/eff_const[iDM]/I/T/NDM[iDM])\n",
    "    sigmalimits_const_vac.append(limitsnow)\n",
    "    \n",
    "#maxwell_air\n",
    "for iDM in range(len(DMmass)):\n",
    "    limitsnow=[]\n",
    "    for iCL in range(5):\n",
    "        limitsnow.append(limits_maxwell_air[iDM][iCL]*nsigHist_maxwell[iDM]/eff_maxwell[iDM]/I/T/NDM[iDM])\n",
    "    sigmalimits_maxwell_air.append(limitsnow)\n",
    "    \n",
    "#maxwell_vac\n",
    "for iDM in range(len(DMmass)):\n",
    "    limitsnow=[]\n",
    "    for iCL in range(5):\n",
    "        limitsnow.append(limits_maxwell_vac[iDM][iCL]*nsigHist_maxwell[iDM]/eff_maxwell[iDM]/I/T/NDM[iDM])\n",
    "    sigmalimits_maxwell_vac.append(limitsnow)"
   ]
  },
  {
   "cell_type": "code",
   "execution_count": 5,
   "id": "44c94e82",
   "metadata": {},
   "outputs": [
    {
     "name": "stderr",
     "output_type": "stream",
     "text": [
      "Info in <TCanvas::Print>: eps file figure/UL_const_air.eps has been created\n",
      "Warning in <TCanvas::Constructor>: Deleting canvas with same name: c\n",
      "Info in <TCanvas::Print>: eps file figure/UL_const_vac.eps has been created\n",
      "Warning in <TCanvas::Constructor>: Deleting canvas with same name: c\n",
      "Info in <TCanvas::Print>: eps file figure/UL_maxwell_air.eps has been created\n",
      "Warning in <TCanvas::Constructor>: Deleting canvas with same name: c\n",
      "Info in <TCanvas::Print>: eps file figure/UL_maxwell_vac.eps has been created\n"
     ]
    }
   ],
   "source": [
    "can,_ = plotUpperLimits(MDM,sigmalimits_const_air,\"DM mass (GeV)\",\"95% upper limit on #sigma_{#mu,DM} (cm^{2})\",\"figure/UL_const_air.eps\",logy=True,logx=True)\n",
    "can,_ = plotUpperLimits(MDM,sigmalimits_const_vac,\"DM mass (GeV)\",\"95% upper limit on #sigma_{#mu,DM} (cm^{2})\",\"figure/UL_const_vac.eps\",logy=True,logx=True)\n",
    "can,_ = plotUpperLimits(MDM,sigmalimits_maxwell_air,\"DM mass (GeV)\",\"95% upper limit on #sigma_{#mu,DM} (cm^{2})\",\"figure/UL_maxwell_air.eps\",logy=True,logx=True)\n",
    "can,_ = plotUpperLimits(MDM,sigmalimits_maxwell_vac,\"DM mass (GeV)\",\"95% upper limit on #sigma_{#mu,DM} (cm^{2})\",\"figure/UL_maxwell_vac.eps\",logy=True,logx=True)"
   ]
  },
  {
   "cell_type": "code",
   "execution_count": 6,
   "id": "de826474",
   "metadata": {},
   "outputs": [
    {
     "data": {
      "text/plain": [
       "1146508770.0"
      ]
     },
     "execution_count": 6,
     "metadata": {},
     "output_type": "execute_result"
    }
   ],
   "source": [
    "nbkgHist_air"
   ]
  },
  {
   "cell_type": "code",
   "execution_count": 7,
   "id": "61d3a53f",
   "metadata": {},
   "outputs": [
    {
     "data": {
      "text/plain": [
       "1144378120.0"
      ]
     },
     "execution_count": 7,
     "metadata": {},
     "output_type": "execute_result"
    }
   ],
   "source": [
    "nbkgHist_vac"
   ]
  },
  {
   "cell_type": "code",
   "execution_count": 8,
   "id": "b961b08a",
   "metadata": {},
   "outputs": [
    {
     "data": {
      "text/plain": [
       "[0.27098228749909253,\n",
       " 0.29560830445388564,\n",
       " 0.27659010347613366,\n",
       " 0.2501312021017075,\n",
       " 0.21473410029411316,\n",
       " 0.18675220268964765,\n",
       " 0.11104290096759796,\n",
       " 0.08438850038051605]"
      ]
     },
     "execution_count": 8,
     "metadata": {},
     "output_type": "execute_result"
    }
   ],
   "source": [
    "eff_const"
   ]
  },
  {
   "cell_type": "code",
   "execution_count": 9,
   "id": "ed0f4f95",
   "metadata": {},
   "outputs": [
    {
     "data": {
      "text/plain": [
       "[0.00014055279696998266,\n",
       " 0.0001442997002047421,\n",
       " 0.00014145247192438716,\n",
       " 0.00013695458511377495,\n",
       " 0.00012985506014976503,\n",
       " 0.00012323790710662544,\n",
       " 9.935410163264433e-05,\n",
       " 8.790169587900093e-05]"
      ]
     },
     "execution_count": 9,
     "metadata": {},
     "output_type": "execute_result"
    }
   ],
   "source": [
    "err_eff_const=[]\n",
    "for i in eff_const:\n",
    "    err_eff_const.append(np.sqrt(i*(1-i)/10000000))\n",
    "err_eff_const"
   ]
  },
  {
   "cell_type": "code",
   "execution_count": 10,
   "id": "e62242f1",
   "metadata": {},
   "outputs": [
    {
     "data": {
      "text/plain": [
       "[0.2710614874987155,\n",
       " 0.2954848041568999,\n",
       " 0.27644510129024275,\n",
       " 0.2499060976564884,\n",
       " 0.21460949890613557,\n",
       " 0.18655619782209396,\n",
       " 0.11098340034484863,\n",
       " 0.08424110023975372]"
      ]
     },
     "execution_count": 10,
     "metadata": {},
     "output_type": "execute_result"
    }
   ],
   "source": [
    "eff_maxwell"
   ]
  },
  {
   "cell_type": "code",
   "execution_count": null,
   "id": "2309c1bb",
   "metadata": {},
   "outputs": [],
   "source": []
  }
 ],
 "metadata": {
  "kernelspec": {
   "display_name": "Python 3 (ipykernel)",
   "language": "python",
   "name": "python3"
  },
  "language_info": {
   "codemirror_mode": {
    "name": "ipython",
    "version": 3
   },
   "file_extension": ".py",
   "mimetype": "text/x-python",
   "name": "python",
   "nbconvert_exporter": "python",
   "pygments_lexer": "ipython3",
   "version": "3.7.11"
  },
  "toc": {
   "base_numbering": 1,
   "nav_menu": {},
   "number_sections": true,
   "sideBar": true,
   "skip_h1_title": false,
   "title_cell": "Table of Contents",
   "title_sidebar": "Contents",
   "toc_cell": false,
   "toc_position": {},
   "toc_section_display": true,
   "toc_window_display": false
  }
 },
 "nbformat": 4,
 "nbformat_minor": 5
}
