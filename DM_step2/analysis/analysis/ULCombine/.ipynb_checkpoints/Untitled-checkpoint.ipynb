{
 "cells": [
  {
   "cell_type": "code",
   "execution_count": 2,
   "id": "4278fba5",
   "metadata": {},
   "outputs": [],
   "source": [
    "param_list = ['0p005','0p05','0p5','0p2','0p1','1','10','100']\n",
    "\n",
    "for iparam in param_list:\n",
    "    text = f'''imax 1\n",
    "jmax 1\n",
    "kmax *\n",
    "---------------\n",
    "shapes h_air * Hist.root h_air\n",
    "shapes h_const * Hist.root h_const_{iparam}\n",
    "shapes data_obs * Hist.root h_air\n",
    "---------------\n",
    "bin bin1\n",
    "observation -1\n",
    "------------------------------\n",
    "bin         bin1        bin1\n",
    "process     h_const     h_air\n",
    "process     0           1\n",
    "rate        -1          -1\n",
    "------------------------------\n",
    "bin1 autoMCStats 10 0 1\n",
    "'''\n",
    "    file1 = open(f'datacard_{iparam}.txt','w')\n",
    "    file1.write(text)\n",
    "    file1.close()"
   ]
  },
  {
   "cell_type": "code",
   "execution_count": null,
   "id": "f3f3edaf",
   "metadata": {},
   "outputs": [],
   "source": [
    "CL95_results = [0.6380, 0.0287, ]"
   ]
  }
 ],
 "metadata": {
  "kernelspec": {
   "display_name": "Python 3 (ipykernel)",
   "language": "python",
   "name": "python3"
  },
  "language_info": {
   "codemirror_mode": {
    "name": "ipython",
    "version": 3
   },
   "file_extension": ".py",
   "mimetype": "text/x-python",
   "name": "python",
   "nbconvert_exporter": "python",
   "pygments_lexer": "ipython3",
   "version": "3.8.8"
  }
 },
 "nbformat": 4,
 "nbformat_minor": 5
}
